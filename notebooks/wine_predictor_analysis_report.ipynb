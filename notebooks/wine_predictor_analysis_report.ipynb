{
 "cells": [
  {
   "cell_type": "markdown",
   "id": "864b43f9-fb3e-4c62-8f34-27607b772330",
   "metadata": {},
   "source": [
    "## Predicting wine quality given chemical characteristics of the wine\n",
    "by Yixuan Gao, Bryan Lee, Wangkai Zhu, Timothy Singh"
   ]
  },
  {
   "cell_type": "markdown",
   "id": "65f0bf5b-1c9c-4c15-9a84-1769a9be9e91",
   "metadata": {},
   "source": [
    "# Summary"
   ]
  },
  {
   "cell_type": "code",
   "execution_count": null,
   "id": "9ccbef7a-1274-43c4-ae2a-34e64172809e",
   "metadata": {},
   "outputs": [],
   "source": []
  },
  {
   "cell_type": "markdown",
   "id": "02d0e5d6-2a56-4920-88d9-00b0df757794",
   "metadata": {},
   "source": [
    "# Introduction:\n"
   ]
  },
  {
   "cell_type": "code",
   "execution_count": null,
   "id": "8fa7164d-50ce-46b7-8f31-1633a6aef9ac",
   "metadata": {},
   "outputs": [],
   "source": []
  },
  {
   "cell_type": "markdown",
   "id": "7d62693e-32e5-43e7-8935-4595e036d381",
   "metadata": {},
   "source": [
    "# Methods & Results:\n"
   ]
  },
  {
   "cell_type": "code",
   "execution_count": null,
   "id": "480a121e-d5b0-4b7c-9241-6fcfcc576667",
   "metadata": {},
   "outputs": [],
   "source": []
  },
  {
   "cell_type": "markdown",
   "id": "a7ba5d3a-032e-4b7c-9105-2190084c9611",
   "metadata": {},
   "source": [
    "# Discussion:\n"
   ]
  },
  {
   "cell_type": "code",
   "execution_count": null,
   "id": "0cbcc5dc-c04b-4ad5-9c85-daf1ac81a3c7",
   "metadata": {},
   "outputs": [],
   "source": []
  },
  {
   "cell_type": "markdown",
   "id": "435aac5d-1e83-46ec-9750-cccde0771812",
   "metadata": {},
   "source": [
    "# References"
   ]
  },
  {
   "cell_type": "code",
   "execution_count": null,
   "id": "d377b6d3-1d8a-4362-a3f2-468defb665e9",
   "metadata": {},
   "outputs": [],
   "source": []
  }
 ],
 "metadata": {
  "kernelspec": {
   "display_name": "Python [conda env:522_group1] *",
   "language": "python",
   "name": "conda-env-522_group1-py"
  },
  "language_info": {
   "codemirror_mode": {
    "name": "ipython",
    "version": 3
   },
   "file_extension": ".py",
   "mimetype": "text/x-python",
   "name": "python",
   "nbconvert_exporter": "python",
   "pygments_lexer": "ipython3",
   "version": "3.12.7"
  }
 },
 "nbformat": 4,
 "nbformat_minor": 5
}
